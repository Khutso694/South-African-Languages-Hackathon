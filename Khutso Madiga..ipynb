{
 "cells": [
  {
   "cell_type": "markdown",
   "id": "ce6d7877",
   "metadata": {},
   "source": [
    "# Language Identification | Classification\n",
    "\n",
    "© Explore Data Science Academy\n",
    "\n",
    "---\n",
    "### Honour Code\n",
    "\n",
    "I **Khutso Madiga**, confirm - by submitting this document - that the solutions in this notebook are a result of my own work and that I abide by the [EDSA honour code](https://drive.google.com/file/d/1QDCjGZJ8-FmJE3bZdIQNwnJyQKPhHZBn/view?usp=sharing).\n",
    "\n",
    "Non-compliance with the honour code constitutes a material breach of contract.\n",
    "\n",
    "### Overview\n",
    "\n",
    "South Africa is a multicultural society that is characterised by its rich linguistic diversity. Language is an indispensable tool that can be used to deepen democracy and also contribute to the social, cultural, intellectual, economic and political life of the South African society.\n",
    "\n",
    "The country is multilingual with 11 official languages, each of which is guaranteed equal status. Most South Africans are multilingual and able to speak at least two or more of the official languages."
   ]
  },
  {
   "cell_type": "markdown",
   "id": "8f45c87d",
   "metadata": {},
   "source": [
    "### 1. Import relevant packages"
   ]
  },
  {
   "cell_type": "code",
   "execution_count": 1,
   "id": "74a3c41a",
   "metadata": {},
   "outputs": [],
   "source": [
    "import numpy as np\n",
    "import pandas as pd\n",
    "import spacy\n",
    "from sklearn import preprocessing\n",
    "from sklearn.model_selection import train_test_split\n",
    "from sklearn.linear_model import LogisticRegression\n",
    "from sklearn.metrics import accuracy_score\n",
    "from sklearn.preprocessing import LabelEncoder\n",
    "from sklearn.preprocessing import MinMaxScaler\n",
    "from sklearn.metrics import roc_auc_score\n",
    "from sklearn.metrics import recall_score\n",
    "from sklearn.metrics import precision_score\n",
    "from sklearn.metrics import f1_score\n",
    "from sklearn.metrics import classification_report\n",
    "import seaborn as sns\n",
    "from sklearn.feature_extraction.text import TfidfVectorizer\n",
    "from sklearn.feature_extraction.text import CountVectorizer\n",
    "from sklearn.utils import resample\n",
    "from sklearn.tree import DecisionTreeClassifier\n",
    "from sklearn.preprocessing import StandardScaler\n",
    "from sklearn.ensemble import RandomForestClassifier, AdaBoostClassifier\n",
    "from sklearn.svm import SVC\n",
    "from sklearn.naive_bayes import MultinomialNB\n",
    "from sklearn.model_selection import GridSearchCV\n",
    "from sklearn.neighbors import KNeighborsClassifier\n",
    "\n",
    "\n",
    "import matplotlib.style as style\n",
    "sns.set(font_scale=1.5)\n",
    "style.use('seaborn-pastel')\n",
    "style.use('seaborn-poster')\n",
    "# NLTK - Natural Language Toolkit\n",
    "import nltk\n",
    "import matplotlib.pyplot as plt\n",
    "%matplotlib inline\n",
    "import re\n",
    "\n",
    "\n",
    "# set plot style\n",
    "sns.set()\n",
    "\n",
    "from collections import Counter\n",
    "# In anaconda prompt, type 'conda install -c conda-forge wordcloud=1.8.1'\n",
    "from wordcloud import WordCloud\n",
    "# In anaconda prompt, type 'conda install -c conda-forge spacy'\n",
    "# followed by 'python -m spacy download en_core_web_sm'\n",
    "# spaCy is a library for advanced natural language processing in Python\n",
    "import spacy\n",
    "nlp = spacy.load(\"en_core_web_sm\")\n",
    "\n",
    "import warnings\n",
    "warnings.filterwarnings(\"ignore\")"
   ]
  },
  {
   "cell_type": "markdown",
   "id": "e3eca7ce",
   "metadata": {},
   "source": [
    "### 2. Load the data"
   ]
  },
  {
   "cell_type": "code",
   "execution_count": 2,
   "id": "47e27cc3",
   "metadata": {},
   "outputs": [
    {
     "data": {
      "text/html": [
       "<div>\n",
       "<style scoped>\n",
       "    .dataframe tbody tr th:only-of-type {\n",
       "        vertical-align: middle;\n",
       "    }\n",
       "\n",
       "    .dataframe tbody tr th {\n",
       "        vertical-align: top;\n",
       "    }\n",
       "\n",
       "    .dataframe thead th {\n",
       "        text-align: right;\n",
       "    }\n",
       "</style>\n",
       "<table border=\"1\" class=\"dataframe\">\n",
       "  <thead>\n",
       "    <tr style=\"text-align: right;\">\n",
       "      <th></th>\n",
       "      <th>lang_id</th>\n",
       "      <th>text</th>\n",
       "    </tr>\n",
       "  </thead>\n",
       "  <tbody>\n",
       "    <tr>\n",
       "      <th>0</th>\n",
       "      <td>xho</td>\n",
       "      <td>umgaqo-siseko wenza amalungiselelo kumaziko ax...</td>\n",
       "    </tr>\n",
       "    <tr>\n",
       "      <th>1</th>\n",
       "      <td>xho</td>\n",
       "      <td>i-dha iya kuba nobulumko bokubeka umsebenzi na...</td>\n",
       "    </tr>\n",
       "    <tr>\n",
       "      <th>2</th>\n",
       "      <td>eng</td>\n",
       "      <td>the province of kwazulu-natal department of tr...</td>\n",
       "    </tr>\n",
       "    <tr>\n",
       "      <th>3</th>\n",
       "      <td>nso</td>\n",
       "      <td>o netefatša gore o ba file dilo ka moka tše le...</td>\n",
       "    </tr>\n",
       "    <tr>\n",
       "      <th>4</th>\n",
       "      <td>ven</td>\n",
       "      <td>khomishini ya ndinganyiso ya mbeu yo ewa maana...</td>\n",
       "    </tr>\n",
       "    <tr>\n",
       "      <th>5</th>\n",
       "      <td>nso</td>\n",
       "      <td>dinyakišišo tše tša go dirwa gabedi ka ngwaga ...</td>\n",
       "    </tr>\n",
       "    <tr>\n",
       "      <th>6</th>\n",
       "      <td>tsn</td>\n",
       "      <td>kgetse nngwe le nngwe e e sa faposiwang mo tsh...</td>\n",
       "    </tr>\n",
       "    <tr>\n",
       "      <th>7</th>\n",
       "      <td>ven</td>\n",
       "      <td>mbadelo dze dza laelwa dzi do kwama mahatulele...</td>\n",
       "    </tr>\n",
       "    <tr>\n",
       "      <th>8</th>\n",
       "      <td>nso</td>\n",
       "      <td>maloko a dikhuduthamaga a ikarabela mongwe le ...</td>\n",
       "    </tr>\n",
       "    <tr>\n",
       "      <th>9</th>\n",
       "      <td>tsn</td>\n",
       "      <td>fa le dirisiwa lebone le tshwanetse go bontsha...</td>\n",
       "    </tr>\n",
       "  </tbody>\n",
       "</table>\n",
       "</div>"
      ],
      "text/plain": [
       "  lang_id                                               text\n",
       "0     xho  umgaqo-siseko wenza amalungiselelo kumaziko ax...\n",
       "1     xho  i-dha iya kuba nobulumko bokubeka umsebenzi na...\n",
       "2     eng  the province of kwazulu-natal department of tr...\n",
       "3     nso  o netefatša gore o ba file dilo ka moka tše le...\n",
       "4     ven  khomishini ya ndinganyiso ya mbeu yo ewa maana...\n",
       "5     nso  dinyakišišo tše tša go dirwa gabedi ka ngwaga ...\n",
       "6     tsn  kgetse nngwe le nngwe e e sa faposiwang mo tsh...\n",
       "7     ven  mbadelo dze dza laelwa dzi do kwama mahatulele...\n",
       "8     nso  maloko a dikhuduthamaga a ikarabela mongwe le ...\n",
       "9     tsn  fa le dirisiwa lebone le tshwanetse go bontsha..."
      ]
     },
     "execution_count": 2,
     "metadata": {},
     "output_type": "execute_result"
    }
   ],
   "source": [
    "data = pd.read_csv(\"train_set.csv\")\n",
    "df = data.copy()\n",
    "df.head(10)"
   ]
  },
  {
   "cell_type": "code",
   "execution_count": 3,
   "id": "76bf624d",
   "metadata": {},
   "outputs": [],
   "source": [
    "test=pd.read_csv('test_set.csv')"
   ]
  },
  {
   "cell_type": "markdown",
   "id": "03212e25",
   "metadata": {},
   "source": [
    "### 3. Data Preprocessing"
   ]
  },
  {
   "cell_type": "markdown",
   "id": "fad2b0ac",
   "metadata": {},
   "source": [
    "1) First we convert all text to lowercase to ensure that the data is more consistent and model does not differentiate between identical words due to lower or uppercase"
   ]
  },
  {
   "cell_type": "code",
   "execution_count": 4,
   "id": "5a7690d6",
   "metadata": {},
   "outputs": [],
   "source": [
    "df['text'] = df['text'].str.lower()"
   ]
  },
  {
   "cell_type": "markdown",
   "id": "9c37a5b1",
   "metadata": {},
   "source": [
    "2) Remove stopwords so that focus is placed on important words. Enlish stopwords will first be removed then stopwords from other languages removed."
   ]
  },
  {
   "cell_type": "code",
   "execution_count": 5,
   "id": "b86f13a4",
   "metadata": {},
   "outputs": [
    {
     "name": "stdout",
     "output_type": "stream",
     "text": [
      "Stopwords in the English language:\n",
      "\n",
      " ['i', 'me', 'my', 'myself', 'we', 'our', 'ours', 'ourselves', 'you', \"you're\", \"you've\", \"you'll\", \"you'd\", 'your', 'yours', 'yourself', 'yourselves', 'he', 'him', 'his', 'himself', 'she', \"she's\", 'her', 'hers', 'herself', 'it', \"it's\", 'its', 'itself', 'they', 'them', 'their', 'theirs', 'themselves', 'what', 'which', 'who', 'whom', 'this', 'that', \"that'll\", 'these', 'those', 'am', 'is', 'are', 'was', 'were', 'be', 'been', 'being', 'have', 'has', 'had', 'having', 'do', 'does', 'did', 'doing', 'a', 'an', 'the', 'and', 'but', 'if', 'or', 'because', 'as', 'until', 'while', 'of', 'at', 'by', 'for', 'with', 'about', 'against', 'between', 'into', 'through', 'during', 'before', 'after', 'above', 'below', 'to', 'from', 'up', 'down', 'in', 'out', 'on', 'off', 'over', 'under', 'again', 'further', 'then', 'once', 'here', 'there', 'when', 'where', 'why', 'how', 'all', 'any', 'both', 'each', 'few', 'more', 'most', 'other', 'some', 'such', 'no', 'nor', 'not', 'only', 'own', 'same', 'so', 'than', 'too', 'very', 's', 't', 'can', 'will', 'just', 'don', \"don't\", 'should', \"should've\", 'now', 'd', 'll', 'm', 'o', 're', 've', 'y', 'ain', 'aren', \"aren't\", 'couldn', \"couldn't\", 'didn', \"didn't\", 'doesn', \"doesn't\", 'hadn', \"hadn't\", 'hasn', \"hasn't\", 'haven', \"haven't\", 'isn', \"isn't\", 'ma', 'mightn', \"mightn't\", 'mustn', \"mustn't\", 'needn', \"needn't\", 'shan', \"shan't\", 'shouldn', \"shouldn't\", 'wasn', \"wasn't\", 'weren', \"weren't\", 'won', \"won't\", 'wouldn', \"wouldn't\"]\n"
     ]
    }
   ],
   "source": [
    "#english stopwords from nltk library\n",
    "from nltk.corpus import stopwords\n",
    "\n",
    "stopwords_list = stopwords.words(\"english\")\n",
    "print(\"Stopwords in the English language:\\n\\n\", stopwords_list)"
   ]
  },
  {
   "cell_type": "code",
   "execution_count": 6,
   "id": "06721114",
   "metadata": {},
   "outputs": [],
   "source": [
    "#other stop words from sotho, zulu and afrikaans\n",
    "other_stop_words=pd.read_csv('stops.csv')"
   ]
  },
  {
   "cell_type": "code",
   "execution_count": 7,
   "id": "17e41e21",
   "metadata": {},
   "outputs": [
    {
     "data": {
      "text/html": [
       "<div>\n",
       "<style scoped>\n",
       "    .dataframe tbody tr th:only-of-type {\n",
       "        vertical-align: middle;\n",
       "    }\n",
       "\n",
       "    .dataframe tbody tr th {\n",
       "        vertical-align: top;\n",
       "    }\n",
       "\n",
       "    .dataframe thead th {\n",
       "        text-align: right;\n",
       "    }\n",
       "</style>\n",
       "<table border=\"1\" class=\"dataframe\">\n",
       "  <thead>\n",
       "    <tr style=\"text-align: right;\">\n",
       "      <th></th>\n",
       "      <th>words</th>\n",
       "    </tr>\n",
       "  </thead>\n",
       "  <tbody>\n",
       "    <tr>\n",
       "      <th>0</th>\n",
       "      <td>ukuthi</td>\n",
       "    </tr>\n",
       "    <tr>\n",
       "      <th>1</th>\n",
       "      <td>kodwa</td>\n",
       "    </tr>\n",
       "    <tr>\n",
       "      <th>2</th>\n",
       "      <td>futhi</td>\n",
       "    </tr>\n",
       "    <tr>\n",
       "      <th>3</th>\n",
       "      <td>kakhulu</td>\n",
       "    </tr>\n",
       "    <tr>\n",
       "      <th>4</th>\n",
       "      <td>wakhe</td>\n",
       "    </tr>\n",
       "  </tbody>\n",
       "</table>\n",
       "</div>"
      ],
      "text/plain": [
       "     words\n",
       "0   ukuthi\n",
       "1    kodwa\n",
       "2    futhi\n",
       "3  kakhulu\n",
       "4    wakhe"
      ]
     },
     "execution_count": 7,
     "metadata": {},
     "output_type": "execute_result"
    }
   ],
   "source": [
    "other_stop_words.head()"
   ]
  },
  {
   "cell_type": "code",
   "execution_count": 8,
   "id": "5179b1a1",
   "metadata": {},
   "outputs": [
    {
     "name": "stdout",
     "output_type": "stream",
     "text": [
      "['ukuthi', 'kodwa', 'futhi', 'kakhulu', 'wakhe', 'kusho', 'uma', 'wathi', 'kanye', 'phansi', 'ngesikhathi', 'lapho', 'u', 'zakhe', 'khona', 'ukuba', 'nje', 'phezulu', 'yakhe', 'kungani', 'wase', 'zonke', 'la', 'mina', 'wami', 'ukuze', 'wahamba', 'kahle', 'lakhe', 'a', 'le', 'o', 'ba', 'ho', 'oa', 'ea', 'ka', 'hae', 'eaba', 'ke', 'hore', 'ha', 'e', 'ne', 're', 'bona', 'me', 'tsa', 'la', 'empa', 'se', 'moo', 'bane', 'mo', 'tse', 'sa', 'li', 'ena', 'tloha', 'hape', 'die', 'het', 'en', 'sy', 'nie', \"'n\", 'ŉ', 'was', 'hy', 'te', 'is', 'ek', 'om', 'hulle', 'in', 'my', 'vir', 'toe', 'haar', 'van', 'dit', 'op', 'se', 'wat', 'met', 'by', 'gaan', 'baie', 'ons', 'jy', 'na', 'maar', 'hom', 'so', 'kan', 'aan', 'dat', 'daar', 'sal', 'jou', 'gesê', 'kom', 'een', 'ma', 'as', 'al', 'saam', 'uit', 'dag', 'sien', 'af']\n"
     ]
    }
   ],
   "source": [
    "#turn the stopwords column into a list\n",
    "\n",
    "other_wrd_lst = other_stop_words['words'].tolist()\n",
    "print(other_wrd_lst)"
   ]
  },
  {
   "cell_type": "code",
   "execution_count": 9,
   "id": "1d7e4da2",
   "metadata": {},
   "outputs": [
    {
     "name": "stdout",
     "output_type": "stream",
     "text": [
      "['i', 'me', 'my', 'myself', 'we', 'our', 'ours', 'ourselves', 'you', \"you're\", \"you've\", \"you'll\", \"you'd\", 'your', 'yours', 'yourself', 'yourselves', 'he', 'him', 'his', 'himself', 'she', \"she's\", 'her', 'hers', 'herself', 'it', \"it's\", 'its', 'itself', 'they', 'them', 'their', 'theirs', 'themselves', 'what', 'which', 'who', 'whom', 'this', 'that', \"that'll\", 'these', 'those', 'am', 'is', 'are', 'was', 'were', 'be', 'been', 'being', 'have', 'has', 'had', 'having', 'do', 'does', 'did', 'doing', 'a', 'an', 'the', 'and', 'but', 'if', 'or', 'because', 'as', 'until', 'while', 'of', 'at', 'by', 'for', 'with', 'about', 'against', 'between', 'into', 'through', 'during', 'before', 'after', 'above', 'below', 'to', 'from', 'up', 'down', 'in', 'out', 'on', 'off', 'over', 'under', 'again', 'further', 'then', 'once', 'here', 'there', 'when', 'where', 'why', 'how', 'all', 'any', 'both', 'each', 'few', 'more', 'most', 'other', 'some', 'such', 'no', 'nor', 'not', 'only', 'own', 'same', 'so', 'than', 'too', 'very', 's', 't', 'can', 'will', 'just', 'don', \"don't\", 'should', \"should've\", 'now', 'd', 'll', 'm', 'o', 're', 've', 'y', 'ain', 'aren', \"aren't\", 'couldn', \"couldn't\", 'didn', \"didn't\", 'doesn', \"doesn't\", 'hadn', \"hadn't\", 'hasn', \"hasn't\", 'haven', \"haven't\", 'isn', \"isn't\", 'ma', 'mightn', \"mightn't\", 'mustn', \"mustn't\", 'needn', \"needn't\", 'shan', \"shan't\", 'shouldn', \"shouldn't\", 'wasn', \"wasn't\", 'weren', \"weren't\", 'won', \"won't\", 'wouldn', \"wouldn't\", 'ukuthi', 'kodwa', 'futhi', 'kakhulu', 'wakhe', 'kusho', 'uma', 'wathi', 'kanye', 'phansi', 'ngesikhathi', 'lapho', 'u', 'zakhe', 'khona', 'ukuba', 'nje', 'phezulu', 'yakhe', 'kungani', 'wase', 'zonke', 'la', 'mina', 'wami', 'ukuze', 'wahamba', 'kahle', 'lakhe', 'a', 'le', 'o', 'ba', 'ho', 'oa', 'ea', 'ka', 'hae', 'eaba', 'ke', 'hore', 'ha', 'e', 'ne', 're', 'bona', 'me', 'tsa', 'la', 'empa', 'se', 'moo', 'bane', 'mo', 'tse', 'sa', 'li', 'ena', 'tloha', 'hape', 'die', 'het', 'en', 'sy', 'nie', \"'n\", 'ŉ', 'was', 'hy', 'te', 'is', 'ek', 'om', 'hulle', 'in', 'my', 'vir', 'toe', 'haar', 'van', 'dit', 'op', 'se', 'wat', 'met', 'by', 'gaan', 'baie', 'ons', 'jy', 'na', 'maar', 'hom', 'so', 'kan', 'aan', 'dat', 'daar', 'sal', 'jou', 'gesê', 'kom', 'een', 'ma', 'as', 'al', 'saam', 'uit', 'dag', 'sien', 'af']\n"
     ]
    }
   ],
   "source": [
    "#combine english stopwords with sotho, zulu and afrikaans\n",
    "\n",
    "all_stop_words = stopwords_list + other_wrd_lst\n",
    "print(all_stop_words )\n"
   ]
  },
  {
   "cell_type": "code",
   "execution_count": 10,
   "id": "fdec991a",
   "metadata": {},
   "outputs": [],
   "source": [
    "#create a column that contains cleaned texts without the stopwords\n",
    "\n",
    "without_stopwords = []\n",
    "for char in range(len(df[\"text\"])):\n",
    "    split = df[\"text\"][char].split(\" \")\n",
    "    for word in all_stop_words:\n",
    "        if word in split:\n",
    "            split.remove(word)\n",
    "    without_stopwords.append(' '.join(map(str, split)))\n",
    "    \n",
    "            \n",
    "        \n",
    "df[\"text_without_noise\"] = without_stopwords"
   ]
  },
  {
   "cell_type": "markdown",
   "id": "52d0d43a",
   "metadata": {},
   "source": [
    "3) Remove punctuations which assist in treating each text equally. Words like hamba and hamba! will be treated equally although they might have a different tone."
   ]
  },
  {
   "cell_type": "code",
   "execution_count": 11,
   "id": "15bef984",
   "metadata": {},
   "outputs": [
    {
     "name": "stdout",
     "output_type": "stream",
     "text": [
      "!\"#$%&'()*+,-./:;<=>?@[\\]^_`{|}~\n"
     ]
    }
   ],
   "source": [
    "import string\n",
    "print(string.punctuation)"
   ]
  },
  {
   "cell_type": "code",
   "execution_count": 12,
   "id": "8450517b",
   "metadata": {},
   "outputs": [],
   "source": [
    "# Function to remove any punctuation\n",
    "def remove_punctuation(text):\n",
    "    return ''.join([l for l in text if l not in string.punctuation])"
   ]
  },
  {
   "cell_type": "code",
   "execution_count": 13,
   "id": "e790d9a4",
   "metadata": {},
   "outputs": [],
   "source": [
    "df[\"text_without_noise\"] = df[\"text_without_noise\"].apply(remove_punctuation)"
   ]
  },
  {
   "cell_type": "markdown",
   "id": "0826f91d",
   "metadata": {},
   "source": [
    "4) Tokenization is the process of tokenizing or splitting a string, text into a list of tokens. One can think of token as parts like a word is a token in a sentence, and a sentence is a token in a paragraph.\n",
    "Now we will tokenize our dataset."
   ]
  },
  {
   "cell_type": "code",
   "execution_count": 14,
   "id": "458b08d0",
   "metadata": {},
   "outputs": [],
   "source": [
    "from nltk.tokenize import word_tokenize, TreebankWordTokenizer\n",
    "\n",
    "tokeniser = TreebankWordTokenizer()\n",
    "df[\"tokens_text_without_noise\"] = df[\"text_without_noise\"].apply(tokeniser.tokenize)"
   ]
  },
  {
   "cell_type": "code",
   "execution_count": 15,
   "id": "f56a3add",
   "metadata": {},
   "outputs": [
    {
     "data": {
      "text/html": [
       "<div>\n",
       "<style scoped>\n",
       "    .dataframe tbody tr th:only-of-type {\n",
       "        vertical-align: middle;\n",
       "    }\n",
       "\n",
       "    .dataframe tbody tr th {\n",
       "        vertical-align: top;\n",
       "    }\n",
       "\n",
       "    .dataframe thead th {\n",
       "        text-align: right;\n",
       "    }\n",
       "</style>\n",
       "<table border=\"1\" class=\"dataframe\">\n",
       "  <thead>\n",
       "    <tr style=\"text-align: right;\">\n",
       "      <th></th>\n",
       "      <th>lang_id</th>\n",
       "      <th>text</th>\n",
       "      <th>text_without_noise</th>\n",
       "      <th>tokens_text_without_noise</th>\n",
       "    </tr>\n",
       "  </thead>\n",
       "  <tbody>\n",
       "    <tr>\n",
       "      <th>0</th>\n",
       "      <td>xho</td>\n",
       "      <td>umgaqo-siseko wenza amalungiselelo kumaziko ax...</td>\n",
       "      <td>umgaqosiseko wenza amalungiselelo kumaziko axh...</td>\n",
       "      <td>[umgaqosiseko, wenza, amalungiselelo, kumaziko...</td>\n",
       "    </tr>\n",
       "    <tr>\n",
       "      <th>1</th>\n",
       "      <td>xho</td>\n",
       "      <td>i-dha iya kuba nobulumko bokubeka umsebenzi na...</td>\n",
       "      <td>idha iya kuba nobulumko bokubeka umsebenzi nap...</td>\n",
       "      <td>[idha, iya, kuba, nobulumko, bokubeka, umseben...</td>\n",
       "    </tr>\n",
       "    <tr>\n",
       "      <th>2</th>\n",
       "      <td>eng</td>\n",
       "      <td>the province of kwazulu-natal department of tr...</td>\n",
       "      <td>province kwazulunatal department of transport ...</td>\n",
       "      <td>[province, kwazulunatal, department, of, trans...</td>\n",
       "    </tr>\n",
       "    <tr>\n",
       "      <th>3</th>\n",
       "      <td>nso</td>\n",
       "      <td>o netefatša gore o ba file dilo ka moka tše le...</td>\n",
       "      <td>netefatša gore file dilo moka tše dumelelanego...</td>\n",
       "      <td>[netefatša, gore, file, dilo, moka, tše, dumel...</td>\n",
       "    </tr>\n",
       "    <tr>\n",
       "      <th>4</th>\n",
       "      <td>ven</td>\n",
       "      <td>khomishini ya ndinganyiso ya mbeu yo ewa maana...</td>\n",
       "      <td>khomishini ya ndinganyiso ya mbeu yo ewa maana...</td>\n",
       "      <td>[khomishini, ya, ndinganyiso, ya, mbeu, yo, ew...</td>\n",
       "    </tr>\n",
       "    <tr>\n",
       "      <th>5</th>\n",
       "      <td>nso</td>\n",
       "      <td>dinyakišišo tše tša go dirwa gabedi ka ngwaga ...</td>\n",
       "      <td>dinyakišišo tše tša go dirwa gabedi ngwaga di ...</td>\n",
       "      <td>[dinyakišišo, tše, tša, go, dirwa, gabedi, ngw...</td>\n",
       "    </tr>\n",
       "    <tr>\n",
       "      <th>6</th>\n",
       "      <td>tsn</td>\n",
       "      <td>kgetse nngwe le nngwe e e sa faposiwang mo tsh...</td>\n",
       "      <td>kgetse nngwe nngwe e faposiwang tshekong go ya...</td>\n",
       "      <td>[kgetse, nngwe, nngwe, e, faposiwang, tshekong...</td>\n",
       "    </tr>\n",
       "    <tr>\n",
       "      <th>7</th>\n",
       "      <td>ven</td>\n",
       "      <td>mbadelo dze dza laelwa dzi do kwama mahatulele...</td>\n",
       "      <td>mbadelo dze dza laelwa dzi kwama mahatulele ap...</td>\n",
       "      <td>[mbadelo, dze, dza, laelwa, dzi, kwama, mahatu...</td>\n",
       "    </tr>\n",
       "    <tr>\n",
       "      <th>8</th>\n",
       "      <td>nso</td>\n",
       "      <td>maloko a dikhuduthamaga a ikarabela mongwe le ...</td>\n",
       "      <td>maloko dikhuduthamaga ikarabela mongwe mongwe ...</td>\n",
       "      <td>[maloko, dikhuduthamaga, ikarabela, mongwe, mo...</td>\n",
       "    </tr>\n",
       "    <tr>\n",
       "      <th>9</th>\n",
       "      <td>tsn</td>\n",
       "      <td>fa le dirisiwa lebone le tshwanetse go bontsha...</td>\n",
       "      <td>fa dirisiwa lebone le tshwanetse go bontsha le...</td>\n",
       "      <td>[fa, dirisiwa, lebone, le, tshwanetse, go, bon...</td>\n",
       "    </tr>\n",
       "  </tbody>\n",
       "</table>\n",
       "</div>"
      ],
      "text/plain": [
       "  lang_id                                               text  \\\n",
       "0     xho  umgaqo-siseko wenza amalungiselelo kumaziko ax...   \n",
       "1     xho  i-dha iya kuba nobulumko bokubeka umsebenzi na...   \n",
       "2     eng  the province of kwazulu-natal department of tr...   \n",
       "3     nso  o netefatša gore o ba file dilo ka moka tše le...   \n",
       "4     ven  khomishini ya ndinganyiso ya mbeu yo ewa maana...   \n",
       "5     nso  dinyakišišo tše tša go dirwa gabedi ka ngwaga ...   \n",
       "6     tsn  kgetse nngwe le nngwe e e sa faposiwang mo tsh...   \n",
       "7     ven  mbadelo dze dza laelwa dzi do kwama mahatulele...   \n",
       "8     nso  maloko a dikhuduthamaga a ikarabela mongwe le ...   \n",
       "9     tsn  fa le dirisiwa lebone le tshwanetse go bontsha...   \n",
       "\n",
       "                                  text_without_noise  \\\n",
       "0  umgaqosiseko wenza amalungiselelo kumaziko axh...   \n",
       "1  idha iya kuba nobulumko bokubeka umsebenzi nap...   \n",
       "2  province kwazulunatal department of transport ...   \n",
       "3  netefatša gore file dilo moka tše dumelelanego...   \n",
       "4  khomishini ya ndinganyiso ya mbeu yo ewa maana...   \n",
       "5  dinyakišišo tše tša go dirwa gabedi ngwaga di ...   \n",
       "6  kgetse nngwe nngwe e faposiwang tshekong go ya...   \n",
       "7  mbadelo dze dza laelwa dzi kwama mahatulele ap...   \n",
       "8  maloko dikhuduthamaga ikarabela mongwe mongwe ...   \n",
       "9  fa dirisiwa lebone le tshwanetse go bontsha le...   \n",
       "\n",
       "                           tokens_text_without_noise  \n",
       "0  [umgaqosiseko, wenza, amalungiselelo, kumaziko...  \n",
       "1  [idha, iya, kuba, nobulumko, bokubeka, umseben...  \n",
       "2  [province, kwazulunatal, department, of, trans...  \n",
       "3  [netefatša, gore, file, dilo, moka, tše, dumel...  \n",
       "4  [khomishini, ya, ndinganyiso, ya, mbeu, yo, ew...  \n",
       "5  [dinyakišišo, tše, tša, go, dirwa, gabedi, ngw...  \n",
       "6  [kgetse, nngwe, nngwe, e, faposiwang, tshekong...  \n",
       "7  [mbadelo, dze, dza, laelwa, dzi, kwama, mahatu...  \n",
       "8  [maloko, dikhuduthamaga, ikarabela, mongwe, mo...  \n",
       "9  [fa, dirisiwa, lebone, le, tshwanetse, go, bon...  "
      ]
     },
     "execution_count": 15,
     "metadata": {},
     "output_type": "execute_result"
    }
   ],
   "source": [
    "df.head(10)"
   ]
  },
  {
   "cell_type": "markdown",
   "id": "0b5388ed",
   "metadata": {},
   "source": [
    "5) Lemmatizing is the process of switching any word to its base word. We choose this method over its altenative, stemming, as lemmatization provides better results by producing real, dictionary words."
   ]
  },
  {
   "cell_type": "code",
   "execution_count": 16,
   "id": "a5c1cd84",
   "metadata": {},
   "outputs": [],
   "source": [
    "from nltk.stem import WordNetLemmatizer\n",
    "\n",
    "lemmatizer = WordNetLemmatizer()"
   ]
  },
  {
   "cell_type": "code",
   "execution_count": 17,
   "id": "99a2481d",
   "metadata": {},
   "outputs": [],
   "source": [
    "# Function to convert words to their lemmas\n",
    "def tokenized_lemma(words, lemmatizer):\n",
    "    return [lemmatizer.lemmatize(word) for word in words] "
   ]
  },
  {
   "cell_type": "code",
   "execution_count": 18,
   "id": "aa347c64",
   "metadata": {},
   "outputs": [],
   "source": [
    "# Function to convert our tokens to a string\n",
    "def tostring(x):\n",
    "    return ' '.join([str(elem) for elem in x])"
   ]
  },
  {
   "cell_type": "code",
   "execution_count": 19,
   "id": "8a0d87d4",
   "metadata": {},
   "outputs": [],
   "source": [
    "df['lemma'] = df['tokens_text_without_noise'].apply(tokenized_lemma, args=(lemmatizer, ))\n",
    "df['lemma_string'] = df['lemma'].apply(tostring)"
   ]
  },
  {
   "cell_type": "code",
   "execution_count": 20,
   "id": "60db7243",
   "metadata": {},
   "outputs": [
    {
     "data": {
      "text/html": [
       "<div>\n",
       "<style scoped>\n",
       "    .dataframe tbody tr th:only-of-type {\n",
       "        vertical-align: middle;\n",
       "    }\n",
       "\n",
       "    .dataframe tbody tr th {\n",
       "        vertical-align: top;\n",
       "    }\n",
       "\n",
       "    .dataframe thead th {\n",
       "        text-align: right;\n",
       "    }\n",
       "</style>\n",
       "<table border=\"1\" class=\"dataframe\">\n",
       "  <thead>\n",
       "    <tr style=\"text-align: right;\">\n",
       "      <th></th>\n",
       "      <th>lang_id</th>\n",
       "      <th>text</th>\n",
       "      <th>text_without_noise</th>\n",
       "      <th>tokens_text_without_noise</th>\n",
       "      <th>lemma</th>\n",
       "      <th>lemma_string</th>\n",
       "    </tr>\n",
       "  </thead>\n",
       "  <tbody>\n",
       "    <tr>\n",
       "      <th>0</th>\n",
       "      <td>xho</td>\n",
       "      <td>umgaqo-siseko wenza amalungiselelo kumaziko ax...</td>\n",
       "      <td>umgaqosiseko wenza amalungiselelo kumaziko axh...</td>\n",
       "      <td>[umgaqosiseko, wenza, amalungiselelo, kumaziko...</td>\n",
       "      <td>[umgaqosiseko, wenza, amalungiselelo, kumaziko...</td>\n",
       "      <td>umgaqosiseko wenza amalungiselelo kumaziko axh...</td>\n",
       "    </tr>\n",
       "    <tr>\n",
       "      <th>1</th>\n",
       "      <td>xho</td>\n",
       "      <td>i-dha iya kuba nobulumko bokubeka umsebenzi na...</td>\n",
       "      <td>idha iya kuba nobulumko bokubeka umsebenzi nap...</td>\n",
       "      <td>[idha, iya, kuba, nobulumko, bokubeka, umseben...</td>\n",
       "      <td>[idha, iya, kuba, nobulumko, bokubeka, umseben...</td>\n",
       "      <td>idha iya kuba nobulumko bokubeka umsebenzi nap...</td>\n",
       "    </tr>\n",
       "    <tr>\n",
       "      <th>2</th>\n",
       "      <td>eng</td>\n",
       "      <td>the province of kwazulu-natal department of tr...</td>\n",
       "      <td>province kwazulunatal department of transport ...</td>\n",
       "      <td>[province, kwazulunatal, department, of, trans...</td>\n",
       "      <td>[province, kwazulunatal, department, of, trans...</td>\n",
       "      <td>province kwazulunatal department of transport ...</td>\n",
       "    </tr>\n",
       "    <tr>\n",
       "      <th>3</th>\n",
       "      <td>nso</td>\n",
       "      <td>o netefatša gore o ba file dilo ka moka tše le...</td>\n",
       "      <td>netefatša gore file dilo moka tše dumelelanego...</td>\n",
       "      <td>[netefatša, gore, file, dilo, moka, tše, dumel...</td>\n",
       "      <td>[netefatša, gore, file, dilo, moka, tše, dumel...</td>\n",
       "      <td>netefatša gore file dilo moka tše dumelelanego...</td>\n",
       "    </tr>\n",
       "    <tr>\n",
       "      <th>4</th>\n",
       "      <td>ven</td>\n",
       "      <td>khomishini ya ndinganyiso ya mbeu yo ewa maana...</td>\n",
       "      <td>khomishini ya ndinganyiso ya mbeu yo ewa maana...</td>\n",
       "      <td>[khomishini, ya, ndinganyiso, ya, mbeu, yo, ew...</td>\n",
       "      <td>[khomishini, ya, ndinganyiso, ya, mbeu, yo, ew...</td>\n",
       "      <td>khomishini ya ndinganyiso ya mbeu yo ewa maana...</td>\n",
       "    </tr>\n",
       "    <tr>\n",
       "      <th>5</th>\n",
       "      <td>nso</td>\n",
       "      <td>dinyakišišo tše tša go dirwa gabedi ka ngwaga ...</td>\n",
       "      <td>dinyakišišo tše tša go dirwa gabedi ngwaga di ...</td>\n",
       "      <td>[dinyakišišo, tše, tša, go, dirwa, gabedi, ngw...</td>\n",
       "      <td>[dinyakišišo, tše, tša, go, dirwa, gabedi, ngw...</td>\n",
       "      <td>dinyakišišo tše tša go dirwa gabedi ngwaga di ...</td>\n",
       "    </tr>\n",
       "    <tr>\n",
       "      <th>6</th>\n",
       "      <td>tsn</td>\n",
       "      <td>kgetse nngwe le nngwe e e sa faposiwang mo tsh...</td>\n",
       "      <td>kgetse nngwe nngwe e faposiwang tshekong go ya...</td>\n",
       "      <td>[kgetse, nngwe, nngwe, e, faposiwang, tshekong...</td>\n",
       "      <td>[kgetse, nngwe, nngwe, e, faposiwang, tshekong...</td>\n",
       "      <td>kgetse nngwe nngwe e faposiwang tshekong go ya...</td>\n",
       "    </tr>\n",
       "    <tr>\n",
       "      <th>7</th>\n",
       "      <td>ven</td>\n",
       "      <td>mbadelo dze dza laelwa dzi do kwama mahatulele...</td>\n",
       "      <td>mbadelo dze dza laelwa dzi kwama mahatulele ap...</td>\n",
       "      <td>[mbadelo, dze, dza, laelwa, dzi, kwama, mahatu...</td>\n",
       "      <td>[mbadelo, dze, dza, laelwa, dzi, kwama, mahatu...</td>\n",
       "      <td>mbadelo dze dza laelwa dzi kwama mahatulele ap...</td>\n",
       "    </tr>\n",
       "    <tr>\n",
       "      <th>8</th>\n",
       "      <td>nso</td>\n",
       "      <td>maloko a dikhuduthamaga a ikarabela mongwe le ...</td>\n",
       "      <td>maloko dikhuduthamaga ikarabela mongwe mongwe ...</td>\n",
       "      <td>[maloko, dikhuduthamaga, ikarabela, mongwe, mo...</td>\n",
       "      <td>[maloko, dikhuduthamaga, ikarabela, mongwe, mo...</td>\n",
       "      <td>maloko dikhuduthamaga ikarabela mongwe mongwe ...</td>\n",
       "    </tr>\n",
       "    <tr>\n",
       "      <th>9</th>\n",
       "      <td>tsn</td>\n",
       "      <td>fa le dirisiwa lebone le tshwanetse go bontsha...</td>\n",
       "      <td>fa dirisiwa lebone le tshwanetse go bontsha le...</td>\n",
       "      <td>[fa, dirisiwa, lebone, le, tshwanetse, go, bon...</td>\n",
       "      <td>[fa, dirisiwa, lebone, le, tshwanetse, go, bon...</td>\n",
       "      <td>fa dirisiwa lebone le tshwanetse go bontsha le...</td>\n",
       "    </tr>\n",
       "  </tbody>\n",
       "</table>\n",
       "</div>"
      ],
      "text/plain": [
       "  lang_id                                               text  \\\n",
       "0     xho  umgaqo-siseko wenza amalungiselelo kumaziko ax...   \n",
       "1     xho  i-dha iya kuba nobulumko bokubeka umsebenzi na...   \n",
       "2     eng  the province of kwazulu-natal department of tr...   \n",
       "3     nso  o netefatša gore o ba file dilo ka moka tše le...   \n",
       "4     ven  khomishini ya ndinganyiso ya mbeu yo ewa maana...   \n",
       "5     nso  dinyakišišo tše tša go dirwa gabedi ka ngwaga ...   \n",
       "6     tsn  kgetse nngwe le nngwe e e sa faposiwang mo tsh...   \n",
       "7     ven  mbadelo dze dza laelwa dzi do kwama mahatulele...   \n",
       "8     nso  maloko a dikhuduthamaga a ikarabela mongwe le ...   \n",
       "9     tsn  fa le dirisiwa lebone le tshwanetse go bontsha...   \n",
       "\n",
       "                                  text_without_noise  \\\n",
       "0  umgaqosiseko wenza amalungiselelo kumaziko axh...   \n",
       "1  idha iya kuba nobulumko bokubeka umsebenzi nap...   \n",
       "2  province kwazulunatal department of transport ...   \n",
       "3  netefatša gore file dilo moka tše dumelelanego...   \n",
       "4  khomishini ya ndinganyiso ya mbeu yo ewa maana...   \n",
       "5  dinyakišišo tše tša go dirwa gabedi ngwaga di ...   \n",
       "6  kgetse nngwe nngwe e faposiwang tshekong go ya...   \n",
       "7  mbadelo dze dza laelwa dzi kwama mahatulele ap...   \n",
       "8  maloko dikhuduthamaga ikarabela mongwe mongwe ...   \n",
       "9  fa dirisiwa lebone le tshwanetse go bontsha le...   \n",
       "\n",
       "                           tokens_text_without_noise  \\\n",
       "0  [umgaqosiseko, wenza, amalungiselelo, kumaziko...   \n",
       "1  [idha, iya, kuba, nobulumko, bokubeka, umseben...   \n",
       "2  [province, kwazulunatal, department, of, trans...   \n",
       "3  [netefatša, gore, file, dilo, moka, tše, dumel...   \n",
       "4  [khomishini, ya, ndinganyiso, ya, mbeu, yo, ew...   \n",
       "5  [dinyakišišo, tše, tša, go, dirwa, gabedi, ngw...   \n",
       "6  [kgetse, nngwe, nngwe, e, faposiwang, tshekong...   \n",
       "7  [mbadelo, dze, dza, laelwa, dzi, kwama, mahatu...   \n",
       "8  [maloko, dikhuduthamaga, ikarabela, mongwe, mo...   \n",
       "9  [fa, dirisiwa, lebone, le, tshwanetse, go, bon...   \n",
       "\n",
       "                                               lemma  \\\n",
       "0  [umgaqosiseko, wenza, amalungiselelo, kumaziko...   \n",
       "1  [idha, iya, kuba, nobulumko, bokubeka, umseben...   \n",
       "2  [province, kwazulunatal, department, of, trans...   \n",
       "3  [netefatša, gore, file, dilo, moka, tše, dumel...   \n",
       "4  [khomishini, ya, ndinganyiso, ya, mbeu, yo, ew...   \n",
       "5  [dinyakišišo, tše, tša, go, dirwa, gabedi, ngw...   \n",
       "6  [kgetse, nngwe, nngwe, e, faposiwang, tshekong...   \n",
       "7  [mbadelo, dze, dza, laelwa, dzi, kwama, mahatu...   \n",
       "8  [maloko, dikhuduthamaga, ikarabela, mongwe, mo...   \n",
       "9  [fa, dirisiwa, lebone, le, tshwanetse, go, bon...   \n",
       "\n",
       "                                        lemma_string  \n",
       "0  umgaqosiseko wenza amalungiselelo kumaziko axh...  \n",
       "1  idha iya kuba nobulumko bokubeka umsebenzi nap...  \n",
       "2  province kwazulunatal department of transport ...  \n",
       "3  netefatša gore file dilo moka tše dumelelanego...  \n",
       "4  khomishini ya ndinganyiso ya mbeu yo ewa maana...  \n",
       "5  dinyakišišo tše tša go dirwa gabedi ngwaga di ...  \n",
       "6  kgetse nngwe nngwe e faposiwang tshekong go ya...  \n",
       "7  mbadelo dze dza laelwa dzi kwama mahatulele ap...  \n",
       "8  maloko dikhuduthamaga ikarabela mongwe mongwe ...  \n",
       "9  fa dirisiwa lebone le tshwanetse go bontsha le...  "
      ]
     },
     "execution_count": 20,
     "metadata": {},
     "output_type": "execute_result"
    }
   ],
   "source": [
    "df.head(10)"
   ]
  },
  {
   "cell_type": "code",
   "execution_count": 21,
   "id": "b3eeff5b",
   "metadata": {},
   "outputs": [
    {
     "data": {
      "text/html": [
       "<div>\n",
       "<style scoped>\n",
       "    .dataframe tbody tr th:only-of-type {\n",
       "        vertical-align: middle;\n",
       "    }\n",
       "\n",
       "    .dataframe tbody tr th {\n",
       "        vertical-align: top;\n",
       "    }\n",
       "\n",
       "    .dataframe thead th {\n",
       "        text-align: right;\n",
       "    }\n",
       "</style>\n",
       "<table border=\"1\" class=\"dataframe\">\n",
       "  <thead>\n",
       "    <tr style=\"text-align: right;\">\n",
       "      <th></th>\n",
       "      <th>lang_id</th>\n",
       "      <th>text</th>\n",
       "      <th>text_without_noise</th>\n",
       "      <th>tokens_text_without_noise</th>\n",
       "      <th>lemma</th>\n",
       "      <th>lemma_string</th>\n",
       "      <th>index</th>\n",
       "    </tr>\n",
       "  </thead>\n",
       "  <tbody>\n",
       "    <tr>\n",
       "      <th>0</th>\n",
       "      <td>xho</td>\n",
       "      <td>umgaqo-siseko wenza amalungiselelo kumaziko ax...</td>\n",
       "      <td>umgaqosiseko wenza amalungiselelo kumaziko axh...</td>\n",
       "      <td>[umgaqosiseko, wenza, amalungiselelo, kumaziko...</td>\n",
       "      <td>[umgaqosiseko, wenza, amalungiselelo, kumaziko...</td>\n",
       "      <td>umgaqosiseko wenza amalungiselelo kumaziko axh...</td>\n",
       "      <td>0</td>\n",
       "    </tr>\n",
       "    <tr>\n",
       "      <th>1</th>\n",
       "      <td>xho</td>\n",
       "      <td>i-dha iya kuba nobulumko bokubeka umsebenzi na...</td>\n",
       "      <td>idha iya kuba nobulumko bokubeka umsebenzi nap...</td>\n",
       "      <td>[idha, iya, kuba, nobulumko, bokubeka, umseben...</td>\n",
       "      <td>[idha, iya, kuba, nobulumko, bokubeka, umseben...</td>\n",
       "      <td>idha iya kuba nobulumko bokubeka umsebenzi nap...</td>\n",
       "      <td>1</td>\n",
       "    </tr>\n",
       "    <tr>\n",
       "      <th>2</th>\n",
       "      <td>eng</td>\n",
       "      <td>the province of kwazulu-natal department of tr...</td>\n",
       "      <td>province kwazulunatal department of transport ...</td>\n",
       "      <td>[province, kwazulunatal, department, of, trans...</td>\n",
       "      <td>[province, kwazulunatal, department, of, trans...</td>\n",
       "      <td>province kwazulunatal department of transport ...</td>\n",
       "      <td>2</td>\n",
       "    </tr>\n",
       "    <tr>\n",
       "      <th>3</th>\n",
       "      <td>nso</td>\n",
       "      <td>o netefatša gore o ba file dilo ka moka tše le...</td>\n",
       "      <td>netefatša gore file dilo moka tše dumelelanego...</td>\n",
       "      <td>[netefatša, gore, file, dilo, moka, tše, dumel...</td>\n",
       "      <td>[netefatša, gore, file, dilo, moka, tše, dumel...</td>\n",
       "      <td>netefatša gore file dilo moka tše dumelelanego...</td>\n",
       "      <td>3</td>\n",
       "    </tr>\n",
       "    <tr>\n",
       "      <th>4</th>\n",
       "      <td>ven</td>\n",
       "      <td>khomishini ya ndinganyiso ya mbeu yo ewa maana...</td>\n",
       "      <td>khomishini ya ndinganyiso ya mbeu yo ewa maana...</td>\n",
       "      <td>[khomishini, ya, ndinganyiso, ya, mbeu, yo, ew...</td>\n",
       "      <td>[khomishini, ya, ndinganyiso, ya, mbeu, yo, ew...</td>\n",
       "      <td>khomishini ya ndinganyiso ya mbeu yo ewa maana...</td>\n",
       "      <td>4</td>\n",
       "    </tr>\n",
       "  </tbody>\n",
       "</table>\n",
       "</div>"
      ],
      "text/plain": [
       "  lang_id                                               text  \\\n",
       "0     xho  umgaqo-siseko wenza amalungiselelo kumaziko ax...   \n",
       "1     xho  i-dha iya kuba nobulumko bokubeka umsebenzi na...   \n",
       "2     eng  the province of kwazulu-natal department of tr...   \n",
       "3     nso  o netefatša gore o ba file dilo ka moka tše le...   \n",
       "4     ven  khomishini ya ndinganyiso ya mbeu yo ewa maana...   \n",
       "\n",
       "                                  text_without_noise  \\\n",
       "0  umgaqosiseko wenza amalungiselelo kumaziko axh...   \n",
       "1  idha iya kuba nobulumko bokubeka umsebenzi nap...   \n",
       "2  province kwazulunatal department of transport ...   \n",
       "3  netefatša gore file dilo moka tše dumelelanego...   \n",
       "4  khomishini ya ndinganyiso ya mbeu yo ewa maana...   \n",
       "\n",
       "                           tokens_text_without_noise  \\\n",
       "0  [umgaqosiseko, wenza, amalungiselelo, kumaziko...   \n",
       "1  [idha, iya, kuba, nobulumko, bokubeka, umseben...   \n",
       "2  [province, kwazulunatal, department, of, trans...   \n",
       "3  [netefatša, gore, file, dilo, moka, tše, dumel...   \n",
       "4  [khomishini, ya, ndinganyiso, ya, mbeu, yo, ew...   \n",
       "\n",
       "                                               lemma  \\\n",
       "0  [umgaqosiseko, wenza, amalungiselelo, kumaziko...   \n",
       "1  [idha, iya, kuba, nobulumko, bokubeka, umseben...   \n",
       "2  [province, kwazulunatal, department, of, trans...   \n",
       "3  [netefatša, gore, file, dilo, moka, tše, dumel...   \n",
       "4  [khomishini, ya, ndinganyiso, ya, mbeu, yo, ew...   \n",
       "\n",
       "                                        lemma_string  index  \n",
       "0  umgaqosiseko wenza amalungiselelo kumaziko axh...      0  \n",
       "1  idha iya kuba nobulumko bokubeka umsebenzi nap...      1  \n",
       "2  province kwazulunatal department of transport ...      2  \n",
       "3  netefatša gore file dilo moka tše dumelelanego...      3  \n",
       "4  khomishini ya ndinganyiso ya mbeu yo ewa maana...      4  "
      ]
     },
     "execution_count": 21,
     "metadata": {},
     "output_type": "execute_result"
    }
   ],
   "source": [
    "# Add an index column to the data so that there are unique identifiers\n",
    "df['index']=df.index\n",
    "df.head()"
   ]
  },
  {
   "cell_type": "code",
   "execution_count": 22,
   "id": "0941db5d",
   "metadata": {},
   "outputs": [
    {
     "data": {
      "text/html": [
       "<div>\n",
       "<style scoped>\n",
       "    .dataframe tbody tr th:only-of-type {\n",
       "        vertical-align: middle;\n",
       "    }\n",
       "\n",
       "    .dataframe tbody tr th {\n",
       "        vertical-align: top;\n",
       "    }\n",
       "\n",
       "    .dataframe thead th {\n",
       "        text-align: right;\n",
       "    }\n",
       "</style>\n",
       "<table border=\"1\" class=\"dataframe\">\n",
       "  <thead>\n",
       "    <tr style=\"text-align: right;\">\n",
       "      <th></th>\n",
       "      <th>lang_id</th>\n",
       "      <th>text</th>\n",
       "      <th>text_without_noise</th>\n",
       "      <th>tokens_text_without_noise</th>\n",
       "      <th>lemma</th>\n",
       "      <th>lemma_string</th>\n",
       "      <th>index</th>\n",
       "    </tr>\n",
       "  </thead>\n",
       "  <tbody>\n",
       "    <tr>\n",
       "      <th>1</th>\n",
       "      <td>xho</td>\n",
       "      <td>umgaqo-siseko wenza amalungiselelo kumaziko ax...</td>\n",
       "      <td>umgaqosiseko wenza amalungiselelo kumaziko axh...</td>\n",
       "      <td>[umgaqosiseko, wenza, amalungiselelo, kumaziko...</td>\n",
       "      <td>[umgaqosiseko, wenza, amalungiselelo, kumaziko...</td>\n",
       "      <td>umgaqosiseko wenza amalungiselelo kumaziko axh...</td>\n",
       "      <td>0</td>\n",
       "    </tr>\n",
       "    <tr>\n",
       "      <th>2</th>\n",
       "      <td>xho</td>\n",
       "      <td>i-dha iya kuba nobulumko bokubeka umsebenzi na...</td>\n",
       "      <td>idha iya kuba nobulumko bokubeka umsebenzi nap...</td>\n",
       "      <td>[idha, iya, kuba, nobulumko, bokubeka, umseben...</td>\n",
       "      <td>[idha, iya, kuba, nobulumko, bokubeka, umseben...</td>\n",
       "      <td>idha iya kuba nobulumko bokubeka umsebenzi nap...</td>\n",
       "      <td>1</td>\n",
       "    </tr>\n",
       "    <tr>\n",
       "      <th>3</th>\n",
       "      <td>eng</td>\n",
       "      <td>the province of kwazulu-natal department of tr...</td>\n",
       "      <td>province kwazulunatal department of transport ...</td>\n",
       "      <td>[province, kwazulunatal, department, of, trans...</td>\n",
       "      <td>[province, kwazulunatal, department, of, trans...</td>\n",
       "      <td>province kwazulunatal department of transport ...</td>\n",
       "      <td>2</td>\n",
       "    </tr>\n",
       "    <tr>\n",
       "      <th>4</th>\n",
       "      <td>nso</td>\n",
       "      <td>o netefatša gore o ba file dilo ka moka tše le...</td>\n",
       "      <td>netefatša gore file dilo moka tše dumelelanego...</td>\n",
       "      <td>[netefatša, gore, file, dilo, moka, tše, dumel...</td>\n",
       "      <td>[netefatša, gore, file, dilo, moka, tše, dumel...</td>\n",
       "      <td>netefatša gore file dilo moka tše dumelelanego...</td>\n",
       "      <td>3</td>\n",
       "    </tr>\n",
       "    <tr>\n",
       "      <th>5</th>\n",
       "      <td>ven</td>\n",
       "      <td>khomishini ya ndinganyiso ya mbeu yo ewa maana...</td>\n",
       "      <td>khomishini ya ndinganyiso ya mbeu yo ewa maana...</td>\n",
       "      <td>[khomishini, ya, ndinganyiso, ya, mbeu, yo, ew...</td>\n",
       "      <td>[khomishini, ya, ndinganyiso, ya, mbeu, yo, ew...</td>\n",
       "      <td>khomishini ya ndinganyiso ya mbeu yo ewa maana...</td>\n",
       "      <td>4</td>\n",
       "    </tr>\n",
       "  </tbody>\n",
       "</table>\n",
       "</div>"
      ],
      "text/plain": [
       "  lang_id                                               text  \\\n",
       "1     xho  umgaqo-siseko wenza amalungiselelo kumaziko ax...   \n",
       "2     xho  i-dha iya kuba nobulumko bokubeka umsebenzi na...   \n",
       "3     eng  the province of kwazulu-natal department of tr...   \n",
       "4     nso  o netefatša gore o ba file dilo ka moka tše le...   \n",
       "5     ven  khomishini ya ndinganyiso ya mbeu yo ewa maana...   \n",
       "\n",
       "                                  text_without_noise  \\\n",
       "1  umgaqosiseko wenza amalungiselelo kumaziko axh...   \n",
       "2  idha iya kuba nobulumko bokubeka umsebenzi nap...   \n",
       "3  province kwazulunatal department of transport ...   \n",
       "4  netefatša gore file dilo moka tše dumelelanego...   \n",
       "5  khomishini ya ndinganyiso ya mbeu yo ewa maana...   \n",
       "\n",
       "                           tokens_text_without_noise  \\\n",
       "1  [umgaqosiseko, wenza, amalungiselelo, kumaziko...   \n",
       "2  [idha, iya, kuba, nobulumko, bokubeka, umseben...   \n",
       "3  [province, kwazulunatal, department, of, trans...   \n",
       "4  [netefatša, gore, file, dilo, moka, tše, dumel...   \n",
       "5  [khomishini, ya, ndinganyiso, ya, mbeu, yo, ew...   \n",
       "\n",
       "                                               lemma  \\\n",
       "1  [umgaqosiseko, wenza, amalungiselelo, kumaziko...   \n",
       "2  [idha, iya, kuba, nobulumko, bokubeka, umseben...   \n",
       "3  [province, kwazulunatal, department, of, trans...   \n",
       "4  [netefatša, gore, file, dilo, moka, tše, dumel...   \n",
       "5  [khomishini, ya, ndinganyiso, ya, mbeu, yo, ew...   \n",
       "\n",
       "                                        lemma_string  index  \n",
       "1  umgaqosiseko wenza amalungiselelo kumaziko axh...      0  \n",
       "2  idha iya kuba nobulumko bokubeka umsebenzi nap...      1  \n",
       "3  province kwazulunatal department of transport ...      2  \n",
       "4  netefatša gore file dilo moka tše dumelelanego...      3  \n",
       "5  khomishini ya ndinganyiso ya mbeu yo ewa maana...      4  "
      ]
     },
     "execution_count": 22,
     "metadata": {},
     "output_type": "execute_result"
    }
   ],
   "source": [
    "df.index=df.index+1\n",
    "df.head()"
   ]
  },
  {
   "cell_type": "markdown",
   "id": "4d70a091",
   "metadata": {},
   "source": [
    "### 4. Exploratory Data Analysis"
   ]
  },
  {
   "cell_type": "code",
   "execution_count": 23,
   "id": "673a8751",
   "metadata": {},
   "outputs": [
    {
     "data": {
      "text/plain": [
       "count     33000\n",
       "unique       11\n",
       "top         xho\n",
       "freq       3000\n",
       "Name: lang_id, dtype: object"
      ]
     },
     "execution_count": 23,
     "metadata": {},
     "output_type": "execute_result"
    }
   ],
   "source": [
    "# Generate statistics that include those that summarize the central tendency, dispersion and shape of a dataset’s distribution, excluding NaN values\n",
    "df.lang_id.describe()"
   ]
  },
  {
   "cell_type": "code",
   "execution_count": 24,
   "id": "b980d13f",
   "metadata": {},
   "outputs": [
    {
     "name": "stdout",
     "output_type": "stream",
     "text": [
      "['xho', 'eng', 'nso', 'ven', 'tsn', 'nbl', 'zul', 'ssw', 'tso', 'sot', 'afr']\n"
     ]
    }
   ],
   "source": [
    "# Print out a list of unique languages\n",
    "type_of_lang = list(df.lang_id.unique())\n",
    "print(type_of_lang)"
   ]
  },
  {
   "cell_type": "code",
   "execution_count": 25,
   "id": "22c9b909",
   "metadata": {},
   "outputs": [
    {
     "data": {
      "text/html": [
       "<div>\n",
       "<style scoped>\n",
       "    .dataframe tbody tr th:only-of-type {\n",
       "        vertical-align: middle;\n",
       "    }\n",
       "\n",
       "    .dataframe tbody tr th {\n",
       "        vertical-align: top;\n",
       "    }\n",
       "\n",
       "    .dataframe thead th {\n",
       "        text-align: right;\n",
       "    }\n",
       "</style>\n",
       "<table border=\"1\" class=\"dataframe\">\n",
       "  <thead>\n",
       "    <tr style=\"text-align: right;\">\n",
       "      <th></th>\n",
       "      <th>lang_id</th>\n",
       "      <th>text</th>\n",
       "      <th>text_without_noise</th>\n",
       "      <th>tokens_text_without_noise</th>\n",
       "      <th>lemma</th>\n",
       "      <th>lemma_string</th>\n",
       "      <th>index</th>\n",
       "    </tr>\n",
       "  </thead>\n",
       "  <tbody>\n",
       "    <tr>\n",
       "      <th>32972</th>\n",
       "      <td>tso</td>\n",
       "      <td>namuntlha tatana a a lo vusiku sala endlwini a...</td>\n",
       "      <td>namuntlha tatana lo vusiku sala endlwini a ya ...</td>\n",
       "      <td>[namuntlha, tatana, lo, vusiku, sala, endlwini...</td>\n",
       "      <td>[namuntlha, tatana, lo, vusiku, sala, endlwini...</td>\n",
       "      <td>namuntlha tatana lo vusiku sala endlwini a ya ...</td>\n",
       "      <td>32971</td>\n",
       "    </tr>\n",
       "    <tr>\n",
       "      <th>32978</th>\n",
       "      <td>nbl</td>\n",
       "      <td>a omunye nomunye umuntu nanyana isikhungo esit...</td>\n",
       "      <td>omunye nomunye umuntu nanyana isikhungo esitsh...</td>\n",
       "      <td>[omunye, nomunye, umuntu, nanyana, isikhungo, ...</td>\n",
       "      <td>[omunye, nomunye, umuntu, nanyana, isikhungo, ...</td>\n",
       "      <td>omunye nomunye umuntu nanyana isikhungo esitsh...</td>\n",
       "      <td>32977</td>\n",
       "    </tr>\n",
       "    <tr>\n",
       "      <th>32987</th>\n",
       "      <td>ven</td>\n",
       "      <td>france o vutshela mushumoni o ambara dzhasi ḽi...</td>\n",
       "      <td>france vutshela mushumoni ambara dzhasi ḽilapf...</td>\n",
       "      <td>[france, vutshela, mushumoni, ambara, dzhasi, ...</td>\n",
       "      <td>[france, vutshela, mushumoni, ambara, dzhasi, ...</td>\n",
       "      <td>france vutshela mushumoni ambara dzhasi ḽilapf...</td>\n",
       "      <td>32986</td>\n",
       "    </tr>\n",
       "    <tr>\n",
       "      <th>32989</th>\n",
       "      <td>afr</td>\n",
       "      <td>armoedige huishoudings word geïdentifiseer en ...</td>\n",
       "      <td>armoedige huishoudings word geïdentifiseer reg...</td>\n",
       "      <td>[armoedige, huishoudings, word, geïdentifiseer...</td>\n",
       "      <td>[armoedige, huishoudings, word, geïdentifiseer...</td>\n",
       "      <td>armoedige huishoudings word geïdentifiseer reg...</td>\n",
       "      <td>32988</td>\n",
       "    </tr>\n",
       "    <tr>\n",
       "      <th>32990</th>\n",
       "      <td>ssw</td>\n",
       "      <td>imenenja yesigodzi utakwatisa ngembhalo uma le...</td>\n",
       "      <td>imenenja yesigodzi utakwatisa ngembhalo lesice...</td>\n",
       "      <td>[imenenja, yesigodzi, utakwatisa, ngembhalo, l...</td>\n",
       "      <td>[imenenja, yesigodzi, utakwatisa, ngembhalo, l...</td>\n",
       "      <td>imenenja yesigodzi utakwatisa ngembhalo lesice...</td>\n",
       "      <td>32989</td>\n",
       "    </tr>\n",
       "    <tr>\n",
       "      <th>32993</th>\n",
       "      <td>zul</td>\n",
       "      <td>a umqondisi-jikelele azise umuntu okukhulunywa...</td>\n",
       "      <td>umqondisijikelele azise umuntu okukhulunywa ng...</td>\n",
       "      <td>[umqondisijikelele, azise, umuntu, okukhulunyw...</td>\n",
       "      <td>[umqondisijikelele, azise, umuntu, okukhulunyw...</td>\n",
       "      <td>umqondisijikelele azise umuntu okukhulunywa ng...</td>\n",
       "      <td>32992</td>\n",
       "    </tr>\n",
       "    <tr>\n",
       "      <th>32994</th>\n",
       "      <td>nso</td>\n",
       "      <td>molawana o akaretša mesepelo ka moka ya baname...</td>\n",
       "      <td>molawana akaretša mesepelo moka ya banamedi go...</td>\n",
       "      <td>[molawana, akaretša, mesepelo, moka, ya, banam...</td>\n",
       "      <td>[molawana, akaretša, mesepelo, moka, ya, banam...</td>\n",
       "      <td>molawana akaretša mesepelo moka ya banamedi go...</td>\n",
       "      <td>32993</td>\n",
       "    </tr>\n",
       "    <tr>\n",
       "      <th>32996</th>\n",
       "      <td>tsn</td>\n",
       "      <td>popo ya dipolateforomo tse ke go tlisa boetele...</td>\n",
       "      <td>popo ya dipolateforomo go tlisa boeteledipele ...</td>\n",
       "      <td>[popo, ya, dipolateforomo, go, tlisa, boeteled...</td>\n",
       "      <td>[popo, ya, dipolateforomo, go, tlisa, boeteled...</td>\n",
       "      <td>popo ya dipolateforomo go tlisa boeteledipele ...</td>\n",
       "      <td>32995</td>\n",
       "    </tr>\n",
       "    <tr>\n",
       "      <th>32998</th>\n",
       "      <td>eng</td>\n",
       "      <td>closing date for the submission of completed t...</td>\n",
       "      <td>closing date submission completed tenders augu...</td>\n",
       "      <td>[closing, date, submission, completed, tenders...</td>\n",
       "      <td>[closing, date, submission, completed, tender,...</td>\n",
       "      <td>closing date submission completed tender augus...</td>\n",
       "      <td>32997</td>\n",
       "    </tr>\n",
       "    <tr>\n",
       "      <th>32999</th>\n",
       "      <td>xho</td>\n",
       "      <td>nawuphina umntu ofunyenwe enetyala phantsi kwa...</td>\n",
       "      <td>nawuphina umntu ofunyenwe enetyala phantsi kwa...</td>\n",
       "      <td>[nawuphina, umntu, ofunyenwe, enetyala, phants...</td>\n",
       "      <td>[nawuphina, umntu, ofunyenwe, enetyala, phants...</td>\n",
       "      <td>nawuphina umntu ofunyenwe enetyala phantsi kwa...</td>\n",
       "      <td>32998</td>\n",
       "    </tr>\n",
       "    <tr>\n",
       "      <th>33000</th>\n",
       "      <td>sot</td>\n",
       "      <td>mafapha a mang le ona a lokela ho etsa ditlale...</td>\n",
       "      <td>mafapha mang ona lokela etsa ditlaleho ona ho ...</td>\n",
       "      <td>[mafapha, mang, ona, lokela, etsa, ditlaleho, ...</td>\n",
       "      <td>[mafapha, mang, ona, lokela, etsa, ditlaleho, ...</td>\n",
       "      <td>mafapha mang ona lokela etsa ditlaleho ona ho ...</td>\n",
       "      <td>32999</td>\n",
       "    </tr>\n",
       "  </tbody>\n",
       "</table>\n",
       "</div>"
      ],
      "text/plain": [
       "      lang_id                                               text  \\\n",
       "32972     tso  namuntlha tatana a a lo vusiku sala endlwini a...   \n",
       "32978     nbl  a omunye nomunye umuntu nanyana isikhungo esit...   \n",
       "32987     ven  france o vutshela mushumoni o ambara dzhasi ḽi...   \n",
       "32989     afr  armoedige huishoudings word geïdentifiseer en ...   \n",
       "32990     ssw  imenenja yesigodzi utakwatisa ngembhalo uma le...   \n",
       "32993     zul  a umqondisi-jikelele azise umuntu okukhulunywa...   \n",
       "32994     nso  molawana o akaretša mesepelo ka moka ya baname...   \n",
       "32996     tsn  popo ya dipolateforomo tse ke go tlisa boetele...   \n",
       "32998     eng  closing date for the submission of completed t...   \n",
       "32999     xho  nawuphina umntu ofunyenwe enetyala phantsi kwa...   \n",
       "33000     sot  mafapha a mang le ona a lokela ho etsa ditlale...   \n",
       "\n",
       "                                      text_without_noise  \\\n",
       "32972  namuntlha tatana lo vusiku sala endlwini a ya ...   \n",
       "32978  omunye nomunye umuntu nanyana isikhungo esitsh...   \n",
       "32987  france vutshela mushumoni ambara dzhasi ḽilapf...   \n",
       "32989  armoedige huishoudings word geïdentifiseer reg...   \n",
       "32990  imenenja yesigodzi utakwatisa ngembhalo lesice...   \n",
       "32993  umqondisijikelele azise umuntu okukhulunywa ng...   \n",
       "32994  molawana akaretša mesepelo moka ya banamedi go...   \n",
       "32996  popo ya dipolateforomo go tlisa boeteledipele ...   \n",
       "32998  closing date submission completed tenders augu...   \n",
       "32999  nawuphina umntu ofunyenwe enetyala phantsi kwa...   \n",
       "33000  mafapha mang ona lokela etsa ditlaleho ona ho ...   \n",
       "\n",
       "                               tokens_text_without_noise  \\\n",
       "32972  [namuntlha, tatana, lo, vusiku, sala, endlwini...   \n",
       "32978  [omunye, nomunye, umuntu, nanyana, isikhungo, ...   \n",
       "32987  [france, vutshela, mushumoni, ambara, dzhasi, ...   \n",
       "32989  [armoedige, huishoudings, word, geïdentifiseer...   \n",
       "32990  [imenenja, yesigodzi, utakwatisa, ngembhalo, l...   \n",
       "32993  [umqondisijikelele, azise, umuntu, okukhulunyw...   \n",
       "32994  [molawana, akaretša, mesepelo, moka, ya, banam...   \n",
       "32996  [popo, ya, dipolateforomo, go, tlisa, boeteled...   \n",
       "32998  [closing, date, submission, completed, tenders...   \n",
       "32999  [nawuphina, umntu, ofunyenwe, enetyala, phants...   \n",
       "33000  [mafapha, mang, ona, lokela, etsa, ditlaleho, ...   \n",
       "\n",
       "                                                   lemma  \\\n",
       "32972  [namuntlha, tatana, lo, vusiku, sala, endlwini...   \n",
       "32978  [omunye, nomunye, umuntu, nanyana, isikhungo, ...   \n",
       "32987  [france, vutshela, mushumoni, ambara, dzhasi, ...   \n",
       "32989  [armoedige, huishoudings, word, geïdentifiseer...   \n",
       "32990  [imenenja, yesigodzi, utakwatisa, ngembhalo, l...   \n",
       "32993  [umqondisijikelele, azise, umuntu, okukhulunyw...   \n",
       "32994  [molawana, akaretša, mesepelo, moka, ya, banam...   \n",
       "32996  [popo, ya, dipolateforomo, go, tlisa, boeteled...   \n",
       "32998  [closing, date, submission, completed, tender,...   \n",
       "32999  [nawuphina, umntu, ofunyenwe, enetyala, phants...   \n",
       "33000  [mafapha, mang, ona, lokela, etsa, ditlaleho, ...   \n",
       "\n",
       "                                            lemma_string  index  \n",
       "32972  namuntlha tatana lo vusiku sala endlwini a ya ...  32971  \n",
       "32978  omunye nomunye umuntu nanyana isikhungo esitsh...  32977  \n",
       "32987  france vutshela mushumoni ambara dzhasi ḽilapf...  32986  \n",
       "32989  armoedige huishoudings word geïdentifiseer reg...  32988  \n",
       "32990  imenenja yesigodzi utakwatisa ngembhalo lesice...  32989  \n",
       "32993  umqondisijikelele azise umuntu okukhulunywa ng...  32992  \n",
       "32994  molawana akaretša mesepelo moka ya banamedi go...  32993  \n",
       "32996  popo ya dipolateforomo go tlisa boeteledipele ...  32995  \n",
       "32998  closing date submission completed tender augus...  32997  \n",
       "32999  nawuphina umntu ofunyenwe enetyala phantsi kwa...  32998  \n",
       "33000  mafapha mang ona lokela etsa ditlaleho ona ho ...  32999  "
      ]
     },
     "execution_count": 25,
     "metadata": {},
     "output_type": "execute_result"
    }
   ],
   "source": [
    "df.drop_duplicates(subset='lang_id', keep=\"last\")"
   ]
  },
  {
   "cell_type": "markdown",
   "id": "32914a6a",
   "metadata": {},
   "source": [
    "## 5. Data Engineering"
   ]
  },
  {
   "cell_type": "markdown",
   "id": "7579750d",
   "metadata": {},
   "source": [
    "Before we move on we need to address an issue with our data- class imbalance.\n",
    "\n",
    "Class imbalance occurs when the number of observations across different class labels are unevenly distributed. Why is this a problem? Most machine learning algorithms assume data equally distributed. So when we have a class imbalance, the machine learning classifier tends to be more biased towards the majority class, causing bad classification of the minority class.\n",
    "\n",
    "So how do we solve this problem ? The answer is resampling. Put simply, resampling methods involve modifying the number of observations in each class."
   ]
  },
  {
   "cell_type": "code",
   "execution_count": 26,
   "id": "6dc5c86b",
   "metadata": {},
   "outputs": [
    {
     "data": {
      "text/plain": [
       "xho    3000\n",
       "eng    3000\n",
       "nso    3000\n",
       "ven    3000\n",
       "tsn    3000\n",
       "nbl    3000\n",
       "zul    3000\n",
       "ssw    3000\n",
       "tso    3000\n",
       "sot    3000\n",
       "afr    3000\n",
       "Name: lang_id, dtype: int64"
      ]
     },
     "execution_count": 26,
     "metadata": {},
     "output_type": "execute_result"
    }
   ],
   "source": [
    "df['lang_id'].value_counts()"
   ]
  },
  {
   "cell_type": "markdown",
   "id": "b768fe1f",
   "metadata": {},
   "source": [
    "Based on the above no class imbalance exist."
   ]
  },
  {
   "cell_type": "markdown",
   "id": "674e7765",
   "metadata": {},
   "source": [
    "## 6. Modelling"
   ]
  },
  {
   "cell_type": "markdown",
   "id": "fb29f6cd",
   "metadata": {},
   "source": [
    "First we seperate our data into feature and labels"
   ]
  },
  {
   "cell_type": "code",
   "execution_count": 27,
   "id": "65ce4d4b",
   "metadata": {},
   "outputs": [],
   "source": [
    "x = df[\"lemma_string\"]\n",
    "y = df['lang_id']"
   ]
  },
  {
   "cell_type": "markdown",
   "id": "0c64b07c",
   "metadata": {},
   "source": [
    "Next we Vectorize our data, i.e., transform sentences into arrays of numbers. We opt for the TfidfVectorizer() over CountVectorizer() due to it not only focusing on the frequency of words present in the corpus but also providing the importance of the words. We can then remove the words that are less important for analysis, hence making the model building less complex by reducing the input dimensions."
   ]
  },
  {
   "cell_type": "code",
   "execution_count": 28,
   "id": "798e35ce",
   "metadata": {},
   "outputs": [],
   "source": [
    "tv = TfidfVectorizer()\n",
    "xtv = tv.fit_transform(x) "
   ]
  },
  {
   "cell_type": "markdown",
   "id": "d24ff237",
   "metadata": {},
   "source": [
    "We then create our train-test split, define the models we want to create and then train these models."
   ]
  },
  {
   "cell_type": "code",
   "execution_count": 29,
   "id": "dea24d1d",
   "metadata": {},
   "outputs": [],
   "source": [
    "X_train, X_test, y_train, y_test = train_test_split(xtv, y, test_size=0.2, random_state=42)"
   ]
  },
  {
   "cell_type": "markdown",
   "id": "78918a3a",
   "metadata": {},
   "source": [
    "#### Logistic Regression:"
   ]
  },
  {
   "cell_type": "code",
   "execution_count": 30,
   "id": "9f579fea",
   "metadata": {},
   "outputs": [
    {
     "data": {
      "text/plain": [
       "LogisticRegression()"
      ]
     },
     "execution_count": 30,
     "metadata": {},
     "output_type": "execute_result"
    }
   ],
   "source": [
    "lm = LogisticRegression()\n",
    "lm.fit(X_train, y_train)"
   ]
  },
  {
   "cell_type": "markdown",
   "id": "bf8af02c",
   "metadata": {},
   "source": [
    "#### Linear Support Vector Classifier:"
   ]
  },
  {
   "cell_type": "code",
   "execution_count": 31,
   "id": "7b3abecb",
   "metadata": {},
   "outputs": [
    {
     "data": {
      "text/plain": [
       "SVC(kernel='linear')"
      ]
     },
     "execution_count": 31,
     "metadata": {},
     "output_type": "execute_result"
    }
   ],
   "source": [
    "svc = SVC(kernel = \"linear\")\n",
    "svc.fit(X_train, y_train)"
   ]
  },
  {
   "cell_type": "markdown",
   "id": "5cbbb3dc",
   "metadata": {},
   "source": [
    "#### K-Nearest Neighbours:"
   ]
  },
  {
   "cell_type": "code",
   "execution_count": 32,
   "id": "27af5ba3",
   "metadata": {},
   "outputs": [
    {
     "data": {
      "text/plain": [
       "KNeighborsClassifier(n_neighbors=4)"
      ]
     },
     "execution_count": 32,
     "metadata": {},
     "output_type": "execute_result"
    }
   ],
   "source": [
    "n_neighbors = 4\n",
    "\n",
    "knn = KNeighborsClassifier(n_neighbors)\n",
    "\n",
    "knn.fit(X_train, y_train)"
   ]
  },
  {
   "cell_type": "markdown",
   "id": "8198bab8",
   "metadata": {},
   "source": [
    "#### Multinomial Naive Bayes Classifier:"
   ]
  },
  {
   "cell_type": "code",
   "execution_count": 33,
   "id": "cb5aebdd",
   "metadata": {},
   "outputs": [
    {
     "data": {
      "text/plain": [
       "MultinomialNB()"
      ]
     },
     "execution_count": 33,
     "metadata": {},
     "output_type": "execute_result"
    }
   ],
   "source": [
    "mnbc = MultinomialNB()\n",
    "mnbc.fit(X_train, y_train)"
   ]
  },
  {
   "cell_type": "markdown",
   "id": "7d6267fa",
   "metadata": {},
   "source": [
    "#### Decision Tree:"
   ]
  },
  {
   "cell_type": "code",
   "execution_count": 34,
   "id": "67bebf36",
   "metadata": {},
   "outputs": [
    {
     "data": {
      "text/plain": [
       "DecisionTreeClassifier(max_depth=5)"
      ]
     },
     "execution_count": 34,
     "metadata": {},
     "output_type": "execute_result"
    }
   ],
   "source": [
    "tree = DecisionTreeClassifier(max_depth=5)\n",
    "tree.fit(X_train, y_train)"
   ]
  },
  {
   "cell_type": "markdown",
   "id": "55b3c474",
   "metadata": {},
   "source": [
    "#### Random Forest"
   ]
  },
  {
   "cell_type": "code",
   "execution_count": 35,
   "id": "c86b6090",
   "metadata": {},
   "outputs": [
    {
     "data": {
      "text/plain": [
       "RandomForestClassifier(max_depth=5, max_features=1, n_estimators=10)"
      ]
     },
     "execution_count": 35,
     "metadata": {},
     "output_type": "execute_result"
    }
   ],
   "source": [
    "forest = RandomForestClassifier(max_depth=5, n_estimators=10, max_features=1)\n",
    "forest.fit(X_train, y_train)"
   ]
  },
  {
   "cell_type": "markdown",
   "id": "a6d60b84",
   "metadata": {},
   "source": [
    "## 7. Model Performance"
   ]
  },
  {
   "cell_type": "markdown",
   "id": "04e7bf22",
   "metadata": {},
   "source": [
    "Function below test our model performance by producing the accuracy, precision, recall and F1 scores:"
   ]
  },
  {
   "cell_type": "code",
   "execution_count": 36,
   "id": "bc0ef839",
   "metadata": {},
   "outputs": [],
   "source": [
    "def scores(lm, X_test, y_test):\n",
    "    # your code here\n",
    "    accuracy = accuracy_score(y_test, lm.predict(X_test) )\n",
    "    precision = precision_score(y_test, lm.predict(X_test), average = \"weighted\" )\n",
    "    recall = recall_score(y_test, lm.predict(X_test), average = \"weighted\" )\n",
    "    f = f1_score(y_test, lm.predict(X_test), average = \"weighted\" ) \n",
    "    return {\"Accuracy\": round(accuracy,3), \"Precision\":round(precision,3), \"Recall\": round(recall,3), \"f1\": round(f,3)}"
   ]
  },
  {
   "cell_type": "code",
   "execution_count": 37,
   "id": "29dd4b7e",
   "metadata": {},
   "outputs": [
    {
     "name": "stdout",
     "output_type": "stream",
     "text": [
      "Logistic Regression :  {'Accuracy': 0.993, 'Precision': 0.994, 'Recall': 0.993, 'f1': 0.993}\n",
      "\n",
      "Linear Support Vector Classifier :  {'Accuracy': 0.994, 'Precision': 0.994, 'Recall': 0.994, 'f1': 0.994}\n",
      "\n",
      "K Nearest Neighbours :  {'Accuracy': 0.942, 'Precision': 0.945, 'Recall': 0.942, 'f1': 0.941}\n",
      "\n",
      "Multinomial Naive Bayes Classifier :  {'Accuracy': 0.998, 'Precision': 0.998, 'Recall': 0.998, 'f1': 0.998}\n",
      "\n",
      "Decision Tree :  {'Accuracy': 0.538, 'Precision': 0.697, 'Recall': 0.538, 'f1': 0.51}\n",
      "\n",
      "Random Forest :  {'Accuracy': 0.099, 'Precision': 0.63, 'Recall': 0.099, 'f1': 0.032}\n",
      "\n"
     ]
    }
   ],
   "source": [
    "models = [lm, svc, knn, mnbc, tree, forest]\n",
    "model_names = [\"Logistic Regression\", \"Linear Support Vector Classifier\", \"K Nearest Neighbours\",\n",
    "                   \"Multinomial Naive Bayes Classifier\", \"Decision Tree\", \"Random Forest\" ] \n",
    "\n",
    "for i in range(len(models)):\n",
    "    print(model_names[i],\": \", scores(models[i], X_test, y_test))\n",
    "    print(\"\")"
   ]
  },
  {
   "cell_type": "code",
   "execution_count": 38,
   "id": "60c1519b",
   "metadata": {},
   "outputs": [],
   "source": [
    "# Express the F1 scores graphically\n",
    "\n",
    "lm_f1 = list(scores(lm, X_test, y_test).items())[3][1]\n",
    "svc_f1 = list(scores(svc, X_test, y_test).items())[3][1]\n",
    "knn_f1 = list(scores(knn, X_test, y_test).items())[3][1]\n",
    "mnbc_f1 = list(scores(mnbc, X_test, y_test).items())[3][1]\n",
    "tree_f1 = list(scores(tree, X_test, y_test).items())[3][1]\n",
    "forest_f1 = list(scores(forest, X_test, y_test).items())[3][1]"
   ]
  },
  {
   "cell_type": "code",
   "execution_count": 39,
   "id": "40186b99",
   "metadata": {},
   "outputs": [
    {
     "data": {
      "image/png": "[encoded data removed]",
      "text/plain": [
       "<Figure size 1280x880 with 1 Axes>"
      ]
     },
     "metadata": {},
     "output_type": "display_data"
    }
   ],
   "source": [
    "ax = plt.subplot(111)\n",
    "ax.barh(model_names, [lm_f1, svc_f1, knn_f1, mnbc_f1, tree_f1, forest_f1])\n",
    "ax.set_xlabel(\"f1 score\")\n",
    "for index, value in enumerate([round(value,2) for value in [lm_f1, svc_f1, knn_f1, mnbc_f1, tree_f1, forest_f1]]):\n",
    "    plt.text(value, index, str(value))"
   ]
  },
  {
   "cell_type": "markdown",
   "id": "e0e9ba1b",
   "metadata": {},
   "source": [
    "## 8. Model Predictions"
   ]
  },
  {
   "cell_type": "code",
   "execution_count": 40,
   "id": "8a23bf93",
   "metadata": {},
   "outputs": [],
   "source": [
    "df_test_data = pd.read_csv(\"test_set.csv\")"
   ]
  },
  {
   "cell_type": "code",
   "execution_count": 41,
   "id": "05217a5d",
   "metadata": {},
   "outputs": [],
   "source": [
    "def produce_model_submission(df_test, mnbc):\n",
    "    \n",
    "    \n",
    "    \n",
    "    \n",
    "    df_test['text'] = df_test['text'].str.lower()\n",
    "    \n",
    "    without_stopwords = []\n",
    "    for lang in range(len(df_test['text'])):\n",
    "        split = df_test['text'][lang].split(\" \")\n",
    "        for word in stopwords.words('english'):\n",
    "            if word in split:\n",
    "                split.remove(word)\n",
    "        without_stopwords.append(' '.join(map(str, split)))\n",
    "\n",
    "\n",
    "    df_test[\"text_without_noise\"] = without_stopwords\n",
    "    \n",
    "    df_test[\"text_without_noise\"] = df_test[\"text_without_noise\"].apply(remove_punctuation)\n",
    "    \n",
    "    tokeniser = TreebankWordTokenizer()\n",
    "    df_test[\"tokens_text_without_noise\"] = df_test[\"text_without_noise\"].apply(tokeniser.tokenize)\n",
    "    \n",
    "\n",
    "    \n",
    "    df_test['lemma'] = df_test['tokens_text_without_noise'].apply(tokenized_lemma, args=(WordNetLemmatizer(), ))\n",
    "    \n",
    "    df_test[\"lemma_string\"] = df_test[\"lemma\"].apply(tostring)\n",
    "    \n",
    "    x = df_test[\"lemma_string\"]\n",
    "    xtv_test = tv.transform(x)\n",
    "    \n",
    "    y_pred = mnbc.predict(xtv_test)\n",
    "    \n",
    "    df_test[\"lang_id\"] = y_pred\n",
    "    \n",
    "    return df_test[[\"index\", \"lang_id\"]]"
   ]
  },
  {
   "cell_type": "code",
   "execution_count": 42,
   "id": "45750d46",
   "metadata": {},
   "outputs": [],
   "source": [
    "produce_model_submission(df_test_data, mnbc).to_csv(\"khutso13.csv\", index=False)"
   ]
  },
  {
   "cell_type": "code",
   "execution_count": 43,
   "id": "a0902d27",
   "metadata": {},
   "outputs": [
    {
     "data": {
      "text/html": [
       "<div>\n",
       "<style scoped>\n",
       "    .dataframe tbody tr th:only-of-type {\n",
       "        vertical-align: middle;\n",
       "    }\n",
       "\n",
       "    .dataframe tbody tr th {\n",
       "        vertical-align: top;\n",
       "    }\n",
       "\n",
       "    .dataframe thead th {\n",
       "        text-align: right;\n",
       "    }\n",
       "</style>\n",
       "<table border=\"1\" class=\"dataframe\">\n",
       "  <thead>\n",
       "    <tr style=\"text-align: right;\">\n",
       "      <th></th>\n",
       "      <th>index</th>\n",
       "      <th>lang_id</th>\n",
       "    </tr>\n",
       "  </thead>\n",
       "  <tbody>\n",
       "    <tr>\n",
       "      <th>0</th>\n",
       "      <td>1</td>\n",
       "      <td>tsn</td>\n",
       "    </tr>\n",
       "    <tr>\n",
       "      <th>1</th>\n",
       "      <td>2</td>\n",
       "      <td>nbl</td>\n",
       "    </tr>\n",
       "    <tr>\n",
       "      <th>2</th>\n",
       "      <td>3</td>\n",
       "      <td>ven</td>\n",
       "    </tr>\n",
       "    <tr>\n",
       "      <th>3</th>\n",
       "      <td>4</td>\n",
       "      <td>ssw</td>\n",
       "    </tr>\n",
       "    <tr>\n",
       "      <th>4</th>\n",
       "      <td>5</td>\n",
       "      <td>afr</td>\n",
       "    </tr>\n",
       "    <tr>\n",
       "      <th>5</th>\n",
       "      <td>6</td>\n",
       "      <td>nso</td>\n",
       "    </tr>\n",
       "    <tr>\n",
       "      <th>6</th>\n",
       "      <td>7</td>\n",
       "      <td>nso</td>\n",
       "    </tr>\n",
       "    <tr>\n",
       "      <th>7</th>\n",
       "      <td>8</td>\n",
       "      <td>sot</td>\n",
       "    </tr>\n",
       "    <tr>\n",
       "      <th>8</th>\n",
       "      <td>9</td>\n",
       "      <td>zul</td>\n",
       "    </tr>\n",
       "    <tr>\n",
       "      <th>9</th>\n",
       "      <td>10</td>\n",
       "      <td>eng</td>\n",
       "    </tr>\n",
       "    <tr>\n",
       "      <th>10</th>\n",
       "      <td>11</td>\n",
       "      <td>nso</td>\n",
       "    </tr>\n",
       "    <tr>\n",
       "      <th>11</th>\n",
       "      <td>12</td>\n",
       "      <td>tso</td>\n",
       "    </tr>\n",
       "    <tr>\n",
       "      <th>12</th>\n",
       "      <td>13</td>\n",
       "      <td>tsn</td>\n",
       "    </tr>\n",
       "    <tr>\n",
       "      <th>13</th>\n",
       "      <td>14</td>\n",
       "      <td>sot</td>\n",
       "    </tr>\n",
       "    <tr>\n",
       "      <th>14</th>\n",
       "      <td>15</td>\n",
       "      <td>tso</td>\n",
       "    </tr>\n",
       "    <tr>\n",
       "      <th>15</th>\n",
       "      <td>16</td>\n",
       "      <td>xho</td>\n",
       "    </tr>\n",
       "    <tr>\n",
       "      <th>16</th>\n",
       "      <td>17</td>\n",
       "      <td>xho</td>\n",
       "    </tr>\n",
       "    <tr>\n",
       "      <th>17</th>\n",
       "      <td>18</td>\n",
       "      <td>ssw</td>\n",
       "    </tr>\n",
       "    <tr>\n",
       "      <th>18</th>\n",
       "      <td>19</td>\n",
       "      <td>afr</td>\n",
       "    </tr>\n",
       "    <tr>\n",
       "      <th>19</th>\n",
       "      <td>20</td>\n",
       "      <td>ven</td>\n",
       "    </tr>\n",
       "    <tr>\n",
       "      <th>20</th>\n",
       "      <td>21</td>\n",
       "      <td>afr</td>\n",
       "    </tr>\n",
       "    <tr>\n",
       "      <th>21</th>\n",
       "      <td>22</td>\n",
       "      <td>ven</td>\n",
       "    </tr>\n",
       "    <tr>\n",
       "      <th>22</th>\n",
       "      <td>23</td>\n",
       "      <td>zul</td>\n",
       "    </tr>\n",
       "    <tr>\n",
       "      <th>23</th>\n",
       "      <td>24</td>\n",
       "      <td>afr</td>\n",
       "    </tr>\n",
       "    <tr>\n",
       "      <th>24</th>\n",
       "      <td>25</td>\n",
       "      <td>nso</td>\n",
       "    </tr>\n",
       "    <tr>\n",
       "      <th>25</th>\n",
       "      <td>26</td>\n",
       "      <td>zul</td>\n",
       "    </tr>\n",
       "    <tr>\n",
       "      <th>26</th>\n",
       "      <td>27</td>\n",
       "      <td>ven</td>\n",
       "    </tr>\n",
       "    <tr>\n",
       "      <th>27</th>\n",
       "      <td>28</td>\n",
       "      <td>afr</td>\n",
       "    </tr>\n",
       "    <tr>\n",
       "      <th>28</th>\n",
       "      <td>29</td>\n",
       "      <td>nso</td>\n",
       "    </tr>\n",
       "    <tr>\n",
       "      <th>29</th>\n",
       "      <td>30</td>\n",
       "      <td>tso</td>\n",
       "    </tr>\n",
       "    <tr>\n",
       "      <th>30</th>\n",
       "      <td>31</td>\n",
       "      <td>zul</td>\n",
       "    </tr>\n",
       "    <tr>\n",
       "      <th>31</th>\n",
       "      <td>32</td>\n",
       "      <td>xho</td>\n",
       "    </tr>\n",
       "    <tr>\n",
       "      <th>32</th>\n",
       "      <td>33</td>\n",
       "      <td>sot</td>\n",
       "    </tr>\n",
       "    <tr>\n",
       "      <th>33</th>\n",
       "      <td>34</td>\n",
       "      <td>nso</td>\n",
       "    </tr>\n",
       "    <tr>\n",
       "      <th>34</th>\n",
       "      <td>35</td>\n",
       "      <td>ssw</td>\n",
       "    </tr>\n",
       "    <tr>\n",
       "      <th>35</th>\n",
       "      <td>36</td>\n",
       "      <td>afr</td>\n",
       "    </tr>\n",
       "    <tr>\n",
       "      <th>36</th>\n",
       "      <td>37</td>\n",
       "      <td>nso</td>\n",
       "    </tr>\n",
       "    <tr>\n",
       "      <th>37</th>\n",
       "      <td>38</td>\n",
       "      <td>xho</td>\n",
       "    </tr>\n",
       "    <tr>\n",
       "      <th>38</th>\n",
       "      <td>39</td>\n",
       "      <td>sot</td>\n",
       "    </tr>\n",
       "    <tr>\n",
       "      <th>39</th>\n",
       "      <td>40</td>\n",
       "      <td>eng</td>\n",
       "    </tr>\n",
       "    <tr>\n",
       "      <th>40</th>\n",
       "      <td>41</td>\n",
       "      <td>zul</td>\n",
       "    </tr>\n",
       "    <tr>\n",
       "      <th>41</th>\n",
       "      <td>42</td>\n",
       "      <td>ssw</td>\n",
       "    </tr>\n",
       "    <tr>\n",
       "      <th>42</th>\n",
       "      <td>43</td>\n",
       "      <td>ven</td>\n",
       "    </tr>\n",
       "    <tr>\n",
       "      <th>43</th>\n",
       "      <td>44</td>\n",
       "      <td>nbl</td>\n",
       "    </tr>\n",
       "    <tr>\n",
       "      <th>44</th>\n",
       "      <td>45</td>\n",
       "      <td>afr</td>\n",
       "    </tr>\n",
       "    <tr>\n",
       "      <th>45</th>\n",
       "      <td>46</td>\n",
       "      <td>ven</td>\n",
       "    </tr>\n",
       "    <tr>\n",
       "      <th>46</th>\n",
       "      <td>47</td>\n",
       "      <td>zul</td>\n",
       "    </tr>\n",
       "    <tr>\n",
       "      <th>47</th>\n",
       "      <td>48</td>\n",
       "      <td>ven</td>\n",
       "    </tr>\n",
       "    <tr>\n",
       "      <th>48</th>\n",
       "      <td>49</td>\n",
       "      <td>nbl</td>\n",
       "    </tr>\n",
       "    <tr>\n",
       "      <th>49</th>\n",
       "      <td>50</td>\n",
       "      <td>tsn</td>\n",
       "    </tr>\n",
       "  </tbody>\n",
       "</table>\n",
       "</div>"
      ],
      "text/plain": [
       "    index lang_id\n",
       "0       1     tsn\n",
       "1       2     nbl\n",
       "2       3     ven\n",
       "3       4     ssw\n",
       "4       5     afr\n",
       "5       6     nso\n",
       "6       7     nso\n",
       "7       8     sot\n",
       "8       9     zul\n",
       "9      10     eng\n",
       "10     11     nso\n",
       "11     12     tso\n",
       "12     13     tsn\n",
       "13     14     sot\n",
       "14     15     tso\n",
       "15     16     xho\n",
       "16     17     xho\n",
       "17     18     ssw\n",
       "18     19     afr\n",
       "19     20     ven\n",
       "20     21     afr\n",
       "21     22     ven\n",
       "22     23     zul\n",
       "23     24     afr\n",
       "24     25     nso\n",
       "25     26     zul\n",
       "26     27     ven\n",
       "27     28     afr\n",
       "28     29     nso\n",
       "29     30     tso\n",
       "30     31     zul\n",
       "31     32     xho\n",
       "32     33     sot\n",
       "33     34     nso\n",
       "34     35     ssw\n",
       "35     36     afr\n",
       "36     37     nso\n",
       "37     38     xho\n",
       "38     39     sot\n",
       "39     40     eng\n",
       "40     41     zul\n",
       "41     42     ssw\n",
       "42     43     ven\n",
       "43     44     nbl\n",
       "44     45     afr\n",
       "45     46     ven\n",
       "46     47     zul\n",
       "47     48     ven\n",
       "48     49     nbl\n",
       "49     50     tsn"
      ]
     },
     "execution_count": 43,
     "metadata": {},
     "output_type": "execute_result"
    }
   ],
   "source": [
    "sub = pd.read_csv(\"khutso13.csv\")\n",
    "sub.head(50)"
   ]
  },
  {
   "cell_type": "code",
   "execution_count": null,
   "id": "3782a160",
   "metadata": {},
   "outputs": [],
   "source": []
  }
 ],
 "metadata": {
  "kernelspec": {
   "display_name": "Python 3 (ipykernel)",
   "language": "python",
   "name": "python3"
  },
  "language_info": {
   "codemirror_mode": {
    "name": "ipython",
    "version": 3
   },
   "file_extension": ".py",
   "mimetype": "text/x-python",
   "name": "python",
   "nbconvert_exporter": "python",
   "pygments_lexer": "ipython3",
   "version": "3.9.13"
  }
 },
 "nbformat": 4,
 "nbformat_minor": 5
}
